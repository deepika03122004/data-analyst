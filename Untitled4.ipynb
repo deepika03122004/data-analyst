{
  "nbformat": 4,
  "nbformat_minor": 0,
  "metadata": {
    "colab": {
      "provenance": [],
      "toc_visible": true
    },
    "kernelspec": {
      "name": "python3",
      "display_name": "Python 3"
    },
    "language_info": {
      "name": "python"
    }
  },
  "cells": [
    {
      "cell_type": "code",
      "execution_count": 2,
      "metadata": {
        "colab": {
          "base_uri": "https://localhost:8080/"
        },
        "id": "2XYxjkAXPQE2",
        "outputId": "65fc661e-a685-4d50-a40c-dad22594b5bc"
      },
      "outputs": [
        {
          "output_type": "stream",
          "name": "stdout",
          "text": [
            "enter your first name:deepika\n",
            "enter your second name:sundaram\n",
            "deepikasundaram\n"
          ]
        }
      ],
      "source": [
        "x=input(\"enter your first name:\")\n",
        "y=input(\"enter your second name:\")\n",
        "sum=x+y\n",
        "print(sum)"
      ]
    },
    {
      "cell_type": "code",
      "source": [
        "i=1\n",
        "if(i<5):\n",
        "  print(\"True\")\n",
        "else:\n",
        "  print(\"False\")"
      ],
      "metadata": {
        "colab": {
          "base_uri": "https://localhost:8080/"
        },
        "id": "q8QQwyuMQk_m",
        "outputId": "3488f9c7-84aa-45bc-fd74-28517e045d27"
      },
      "execution_count": 3,
      "outputs": [
        {
          "output_type": "stream",
          "name": "stdout",
          "text": [
            "True\n"
          ]
        }
      ]
    },
    {
      "cell_type": "code",
      "source": [
        "names=[\"deepika\",\"sundram\",\"kalyani\"]\n",
        "for x in names:\n",
        "  print(x)"
      ],
      "metadata": {
        "colab": {
          "base_uri": "https://localhost:8080/"
        },
        "id": "dEKtIWyDRIO-",
        "outputId": "968cf48f-e92b-4820-866f-acb13a3b3f4d"
      },
      "execution_count": 7,
      "outputs": [
        {
          "output_type": "stream",
          "name": "stdout",
          "text": [
            "deepika\n",
            "sundram\n",
            "kalyani\n"
          ]
        }
      ]
    },
    {
      "cell_type": "code",
      "source": [
        "i=1\n",
        "while(i<5):\n",
        "  print(i)\n",
        "  i=i+1"
      ],
      "metadata": {
        "colab": {
          "base_uri": "https://localhost:8080/"
        },
        "id": "EEubIEJGSefY",
        "outputId": "337e70d3-db3f-4708-9e6d-f57600426028"
      },
      "execution_count": 8,
      "outputs": [
        {
          "output_type": "stream",
          "name": "stdout",
          "text": [
            "1\n",
            "2\n",
            "3\n",
            "4\n"
          ]
        }
      ]
    },
    {
      "cell_type": "code",
      "source": [
        "import numpy as np\n",
        "for x in range(1,5):\n",
        "  print(x)\n",
        "np.array(x)"
      ],
      "metadata": {
        "colab": {
          "base_uri": "https://localhost:8080/"
        },
        "id": "MB0svQxPTDJp",
        "outputId": "7926d30c-e1d1-4dab-df88-e0342be9342e"
      },
      "execution_count": 12,
      "outputs": [
        {
          "output_type": "stream",
          "name": "stdout",
          "text": [
            "1\n",
            "2\n",
            "3\n",
            "4\n"
          ]
        },
        {
          "output_type": "execute_result",
          "data": {
            "text/plain": [
              "array(4)"
            ]
          },
          "metadata": {},
          "execution_count": 12
        }
      ]
    },
    {
      "cell_type": "code",
      "source": [
        "a=200\n",
        "b=600\n",
        "c=600\n",
        "if(a>b):\n",
        "  print(\"a is less than b\")\n",
        "elif(b==c):\n",
        "  print(\"b is equal to c\")\n",
        "else:\n",
        "  print(\"b is greater than a\")"
      ],
      "metadata": {
        "colab": {
          "base_uri": "https://localhost:8080/"
        },
        "id": "QixkUkrqTeH8",
        "outputId": "e4afcf74-4565-4e2a-80ab-c206e639c378"
      },
      "execution_count": 17,
      "outputs": [
        {
          "output_type": "stream",
          "name": "stdout",
          "text": [
            "b is equal to c\n"
          ]
        }
      ]
    },
    {
      "cell_type": "markdown",
      "source": [
        "user input"
      ],
      "metadata": {
        "id": "Bch3fVNxgNBR"
      }
    },
    {
      "cell_type": "code",
      "source": [
        "names=[\"deepika\",\"sundaram\",\"kalyani\"]\n",
        "user=input(\"enter your name:\")\n",
        "if user in names:\n",
        "    print(\"syntax\")\n",
        "else:\n",
        "    print(\"exists\")"
      ],
      "metadata": {
        "colab": {
          "base_uri": "https://localhost:8080/"
        },
        "id": "6MfHfSooe36z",
        "outputId": "e83b246a-bb18-442f-e653-f0de7438fbc4"
      },
      "execution_count": 44,
      "outputs": [
        {
          "output_type": "stream",
          "name": "stdout",
          "text": [
            "enter your name:gjhd;\n",
            "exists\n"
          ]
        }
      ]
    },
    {
      "cell_type": "markdown",
      "source": [
        "# middle line break\n"
      ],
      "metadata": {
        "id": "mxgueaOGgJi8"
      }
    },
    {
      "cell_type": "code",
      "source": [
        "for i in range(1,15):\n",
        "  if i==6:\n",
        "    continue\n",
        "  print(i)\n",
        ""
      ],
      "metadata": {
        "colab": {
          "base_uri": "https://localhost:8080/"
        },
        "id": "0mL7YdOBdDVc",
        "outputId": "a19c9c18-c902-494f-c2ae-56cffcc1536d"
      },
      "execution_count": 50,
      "outputs": [
        {
          "output_type": "stream",
          "name": "stdout",
          "text": [
            "7\n",
            "8\n",
            "9\n",
            "10\n",
            "11\n",
            "12\n",
            "13\n",
            "14\n"
          ]
        }
      ]
    }
  ]
}