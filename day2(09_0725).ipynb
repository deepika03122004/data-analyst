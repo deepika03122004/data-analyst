{
  "nbformat": 4,
  "nbformat_minor": 0,
  "metadata": {
    "colab": {
      "provenance": []
    },
    "kernelspec": {
      "name": "python3",
      "display_name": "Python 3"
    },
    "language_info": {
      "name": "python"
    }
  },
  "cells": [
    {
      "cell_type": "code",
      "execution_count": null,
      "metadata": {
        "id": "n6hzmcPWOFR4",
        "colab": {
          "base_uri": "https://localhost:8080/"
        },
        "outputId": "b8eefb96-ae6c-462a-b494-265dd375f830"
      },
      "outputs": [
        {
          "output_type": "stream",
          "name": "stdout",
          "text": [
            "hello\n"
          ]
        }
      ],
      "source": [
        "a=\"hello\"\n",
        "print(a)"
      ]
    },
    {
      "cell_type": "code",
      "source": [
        "a=\"\"\"loreum ipsum dolor sit amet,consectetur adipiscing eloit,sed do eiusmod temppor incididunt ut labore et dollar megna alique\"\"\"\n",
        "print(a)\n"
      ],
      "metadata": {
        "colab": {
          "base_uri": "https://localhost:8080/"
        },
        "id": "GheeOpZVPFIq",
        "outputId": "62442dda-102f-44d9-defd-7fe94a332540"
      },
      "execution_count": null,
      "outputs": [
        {
          "output_type": "stream",
          "name": "stdout",
          "text": [
            "loreum ipsum dolor sit amet,consectetur adipiscing eloit,sed do eiusmod temppor incididunt ut labore et dollar megna alique\n"
          ]
        }
      ]
    },
    {
      "cell_type": "code",
      "source": [
        "a=\"deepika\"\n",
        "print(a[1])"
      ],
      "metadata": {
        "colab": {
          "base_uri": "https://localhost:8080/"
        },
        "id": "ZjIS_hgdQRnf",
        "outputId": "9496c587-3d41-4ef0-8938-fa35bc64a3b1"
      },
      "execution_count": null,
      "outputs": [
        {
          "output_type": "stream",
          "name": "stdout",
          "text": [
            "e\n"
          ]
        }
      ]
    },
    {
      "cell_type": "code",
      "source": [
        "a=\"deepika\"\n",
        "print(len(a))"
      ],
      "metadata": {
        "colab": {
          "base_uri": "https://localhost:8080/"
        },
        "id": "Q3p1Np01QcJf",
        "outputId": "4cb57fb1-e797-43c4-e3aa-d9d71fd26029"
      },
      "execution_count": null,
      "outputs": [
        {
          "output_type": "stream",
          "name": "stdout",
          "text": [
            "d\n",
            "e\n",
            "e\n",
            "p\n",
            "i\n",
            "k\n",
            "a\n"
          ]
        }
      ]
    },
    {
      "cell_type": "code",
      "source": [
        "a=\"deepika\"\n",
        "print(len(a))"
      ],
      "metadata": {
        "colab": {
          "base_uri": "https://localhost:8080/"
        },
        "id": "CsiSTbEHSIf8",
        "outputId": "bbaef545-baba-4ed2-cf03-d51ed0ca1d2c"
      },
      "execution_count": null,
      "outputs": [
        {
          "output_type": "stream",
          "name": "stdout",
          "text": [
            "7\n"
          ]
        }
      ]
    },
    {
      "cell_type": "code",
      "source": [
        "s=\"the best things in life are free \"\n",
        "print(\"free\" in s)"
      ],
      "metadata": {
        "colab": {
          "base_uri": "https://localhost:8080/"
        },
        "id": "W8naPtzhSiuJ",
        "outputId": "d8df24ef-9c34-4d15-c933-95ca9c6bee24"
      },
      "execution_count": null,
      "outputs": [
        {
          "output_type": "stream",
          "name": "stdout",
          "text": [
            "True\n"
          ]
        }
      ]
    },
    {
      "cell_type": "code",
      "source": [
        "s=\"the best things in life are free \"\n",
        "print(\"free\" not in s)"
      ],
      "metadata": {
        "colab": {
          "base_uri": "https://localhost:8080/"
        },
        "id": "uMyStbfJWqvF",
        "outputId": "73eefc22-1fbf-40ac-9f4c-e39480f2d006"
      },
      "execution_count": null,
      "outputs": [
        {
          "output_type": "stream",
          "name": "stdout",
          "text": [
            "False\n"
          ]
        }
      ]
    },
    {
      "cell_type": "code",
      "source": [
        "a=\"the best things in life are free\"\n",
        "if \"free\" in a:\n",
        "  print(\"yes,'free' is present\")"
      ],
      "metadata": {
        "colab": {
          "base_uri": "https://localhost:8080/"
        },
        "id": "7_AUhdD3XQV3",
        "outputId": "87b1670a-f65d-4187-9d62-36edec673634"
      },
      "execution_count": null,
      "outputs": [
        {
          "output_type": "stream",
          "name": "stdout",
          "text": [
            "yes,'free' is present\n"
          ]
        }
      ]
    },
    {
      "cell_type": "code",
      "source": [
        "a=\"the best things in life are\"\n",
        "if \"free\" in a:\n",
        "  print(\"yes,free is present\")\n",
        "else:\n",
        "  print(\"no,free is not present\")"
      ],
      "metadata": {
        "id": "3v8MHQX4Xmhd",
        "colab": {
          "base_uri": "https://localhost:8080/"
        },
        "outputId": "dd283463-6301-49c1-d2aa-4fb606a7a56f"
      },
      "execution_count": null,
      "outputs": [
        {
          "output_type": "stream",
          "name": "stdout",
          "text": [
            "no,free is not present\n"
          ]
        }
      ]
    },
    {
      "cell_type": "code",
      "source": [
        "a=\"the best things in life are free\"\n",
        "print(\"expensive\" not in a)\n"
      ],
      "metadata": {
        "id": "3D76eO86Ya0N",
        "colab": {
          "base_uri": "https://localhost:8080/"
        },
        "outputId": "8de59be5-51d4-4ca0-9e55-3f3b86df52a0"
      },
      "execution_count": 29,
      "outputs": [
        {
          "output_type": "stream",
          "name": "stdout",
          "text": [
            "True\n"
          ]
        }
      ]
    },
    {
      "cell_type": "code",
      "source": [
        "name=\"deepika\"\n",
        "print(name[2:5])"
      ],
      "metadata": {
        "colab": {
          "base_uri": "https://localhost:8080/"
        },
        "id": "HfP_TCd_dRBR",
        "outputId": "a3495c03-74ec-4c9a-dacc-524bc916b3d5"
      },
      "execution_count": 30,
      "outputs": [
        {
          "output_type": "stream",
          "name": "stdout",
          "text": [
            "epi\n"
          ]
        }
      ]
    },
    {
      "cell_type": "code",
      "source": [
        "a=b=\"deepika,sundaram\"\n",
        "print(b[:5])\n",
        "print(b[2:])\n",
        "print(b[-5:])\n",
        "print(a.upper())\n",
        "print(a.lower())\n"
      ],
      "metadata": {
        "colab": {
          "base_uri": "https://localhost:8080/"
        },
        "id": "ywsWjkLMdgyy",
        "outputId": "59b09ec9-2e15-4519-a114-34b52f476c85"
      },
      "execution_count": 31,
      "outputs": [
        {
          "output_type": "stream",
          "name": "stdout",
          "text": [
            "deepi\n",
            "epika,sundaram\n",
            "daram\n",
            "DEEPIKA,SUNDARAM\n",
            "deepika,sundaram\n"
          ]
        }
      ]
    }
  ]
}